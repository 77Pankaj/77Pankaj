{
  "nbformat": 4,
  "nbformat_minor": 0,
  "metadata": {
    "colab": {
      "provenance": [],
      "authorship_tag": "ABX9TyOiPVGnbbn2DAtabpCFqMoW",
      "include_colab_link": true
    },
    "kernelspec": {
      "name": "python3",
      "display_name": "Python 3"
    },
    "language_info": {
      "name": "python"
    }
  },
  "cells": [
    {
      "cell_type": "markdown",
      "metadata": {
        "id": "view-in-github",
        "colab_type": "text"
      },
      "source": [
        "<a href=\"https://colab.research.google.com/github/77Pankaj/77Pankaj/blob/main/Files_%26_Exceptional_handling_assignment.ipynb\" target=\"_parent\"><img src=\"https://colab.research.google.com/assets/colab-badge.svg\" alt=\"Open In Colab\"/></a>"
      ]
    },
    {
      "cell_type": "code",
      "execution_count": 1,
      "metadata": {
        "colab": {
          "base_uri": "https://localhost:8080/"
        },
        "id": "YDPPCdUvFWlV",
        "outputId": "d77f8264-7ae4-487f-a540-709c330eb4c8"
      },
      "outputs": [
        {
          "output_type": "stream",
          "name": "stdout",
          "text": [
            "Added 1 to list: [1]\n",
            "Added 2 to list: [1, 2]\n",
            "Removed 1 from list: [2]\n",
            "Added 3 to list: [2, 3]\n",
            "Added 4 to list: [2, 3, 4]\n",
            "Removed 2 from list: [3, 4]\n",
            "Added 5 to list: [3, 4, 5]\n",
            "Removed 3 from list: [4, 5]\n",
            "Removed 4 from list: [5]\n",
            "Removed 5 from list: []\n",
            "Final list: []\n"
          ]
        }
      ],
      "source": [
        "# 4. Python Program Using Multithreading and Lock to Avoid Race Conditions\n",
        "import threading\n",
        "import time\n",
        "\n",
        "# Shared resource\n",
        "shared_list = []\n",
        "\n",
        "# Lock to avoid race condition\n",
        "list_lock = threading.Lock()\n",
        "\n",
        "# Function to add numbers to the list\n",
        "def add_to_list():\n",
        "    for i in range(1, 6):\n",
        "        time.sleep(0.5)\n",
        "        with list_lock:\n",
        "            shared_list.append(i)\n",
        "            print(f\"Added {i} to list: {shared_list}\")\n",
        "\n",
        "# Function to remove numbers from the list\n",
        "def remove_from_list():\n",
        "    for i in range(1, 6):\n",
        "        time.sleep(1)\n",
        "        with list_lock:\n",
        "            if shared_list:\n",
        "                removed_item = shared_list.pop(0)\n",
        "                print(f\"Removed {removed_item} from list: {shared_list}\")\n",
        "\n",
        "# Create threads\n",
        "t1 = threading.Thread(target=add_to_list)\n",
        "t2 = threading.Thread(target=remove_from_list)\n",
        "\n",
        "# Start threads\n",
        "t1.start()\n",
        "t2.start()\n",
        "\n",
        "# Wait for threads to complete\n",
        "t1.join()\n",
        "t2.join()\n",
        "\n",
        "print(\"Final list:\", shared_list)\n"
      ]
    },
    {
      "cell_type": "markdown",
      "source": [
        "\n",
        "Explanation:\n",
        "The threading.Lock is used to prevent race conditions. Each thread accesses the shared list only after acquiring the lock, ensuring that only one thread modifies the list at any given time."
      ],
      "metadata": {
        "id": "w-JUyfS5GO5N"
      }
    },
    {
      "cell_type": "code",
      "source": [
        "# 7. Python Program Using ThreadPoolExecutor to Calculate Factorial\n",
        "from concurrent.futures import ThreadPoolExecutor\n",
        "import math\n",
        "\n",
        "# Function to compute factorial\n",
        "def compute_factorial(n):\n",
        "    return math.factorial(n)\n",
        "\n",
        "# Use ThreadPoolExecutor\n",
        "with ThreadPoolExecutor() as executor:\n",
        "    # Calculate factorial for numbers 1 to 10 concurrently\n",
        "    results = executor.map(compute_factorial, range(1, 11))\n",
        "\n",
        "# Display results\n",
        "for number, factorial in zip(range(1, 11), results):\n",
        "    print(f\"Factorial of {number} is {factorial}\")\n"
      ],
      "metadata": {
        "colab": {
          "base_uri": "https://localhost:8080/"
        },
        "id": "tiilDzpeFniZ",
        "outputId": "5ed9b8bb-d7a9-4a1c-c6c0-8b85f4dc1797"
      },
      "execution_count": 2,
      "outputs": [
        {
          "output_type": "stream",
          "name": "stdout",
          "text": [
            "Factorial of 1 is 1\n",
            "Factorial of 2 is 2\n",
            "Factorial of 3 is 6\n",
            "Factorial of 4 is 24\n",
            "Factorial of 5 is 120\n",
            "Factorial of 6 is 720\n",
            "Factorial of 7 is 5040\n",
            "Factorial of 8 is 40320\n",
            "Factorial of 9 is 362880\n",
            "Factorial of 10 is 3628800\n"
          ]
        }
      ]
    },
    {
      "cell_type": "code",
      "source": [
        "# 8. Python Program Using Multiprocessing.Pool to Compute Squares of Numbers\n",
        "import multiprocessing\n",
        "import time\n",
        "\n",
        "# Function to compute square\n",
        "def compute_square(n):\n",
        "    return n * n\n",
        "\n",
        "# Measure time with different pool sizes\n",
        "for pool_size in [2, 4, 8]:\n",
        "    start_time = time.time()\n",
        "\n",
        "    # Use multiprocessing.Pool\n",
        "    with multiprocessing.Pool(pool_size) as pool:\n",
        "        results = pool.map(compute_square, range(1, 11))\n",
        "\n",
        "    end_time = time.time()\n",
        "\n",
        "    # Output results and time taken\n",
        "    print(f\"Results with pool size {pool_size}: {results}\")\n",
        "    print(f\"Time taken with pool size {pool_size}: {end_time - start_time:.4f} seconds\\n\")\n"
      ],
      "metadata": {
        "colab": {
          "base_uri": "https://localhost:8080/"
        },
        "id": "zIIFJB6KG_VP",
        "outputId": "88440d8b-7a82-4476-c53c-395c6df9eeb9"
      },
      "execution_count": 3,
      "outputs": [
        {
          "output_type": "stream",
          "name": "stdout",
          "text": [
            "Results with pool size 2: [1, 4, 9, 16, 25, 36, 49, 64, 81, 100]\n",
            "Time taken with pool size 2: 0.0813 seconds\n",
            "\n",
            "Results with pool size 4: [1, 4, 9, 16, 25, 36, 49, 64, 81, 100]\n",
            "Time taken with pool size 4: 0.0696 seconds\n",
            "\n",
            "Results with pool size 8: [1, 4, 9, 16, 25, 36, 49, 64, 81, 100]\n",
            "Time taken with pool size 8: 0.1022 seconds\n",
            "\n"
          ]
        }
      ]
    },
    {
      "cell_type": "markdown",
      "source": [
        "Explanation:\n",
        "The program uses different pool sizes (2, 4, 8 processes) to compute the square of numbers from 1 to 10 in parallel. The time taken for each pool size is measured to demonstrate the performance difference."
      ],
      "metadata": {
        "id": "bBG9rxMIHEXx"
      }
    },
    {
      "cell_type": "code",
      "source": [],
      "metadata": {
        "id": "UvZ21yqrHFa3"
      },
      "execution_count": null,
      "outputs": []
    }
  ]
}